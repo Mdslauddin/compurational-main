{
 "cells": [
  {
   "cell_type": "markdown",
   "id": "05394ee9",
   "metadata": {},
   "source": [
    "https://handwiki.org/wiki/Biology:Computational_biology"
   ]
  },
  {
   "cell_type": "markdown",
   "id": "aa0c17ae",
   "metadata": {},
   "source": [
    "# Computational Biology\n",
    "\n",
    "- Bioinformatics Toolbox\n",
    "- SimBiology"
   ]
  },
  {
   "cell_type": "markdown",
   "id": "1d82de7c",
   "metadata": {},
   "source": []
  }
 ],
 "metadata": {
  "kernelspec": {
   "display_name": "Python 3 (ipykernel)",
   "language": "python",
   "name": "python3"
  },
  "language_info": {
   "codemirror_mode": {
    "name": "ipython",
    "version": 3
   },
   "file_extension": ".py",
   "mimetype": "text/x-python",
   "name": "python",
   "nbconvert_exporter": "python",
   "pygments_lexer": "ipython3",
   "version": "3.9.12"
  }
 },
 "nbformat": 4,
 "nbformat_minor": 5
}
