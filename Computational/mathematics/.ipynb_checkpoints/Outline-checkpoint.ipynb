{
 "cells": [
  {
   "cell_type": "markdown",
   "id": "2629a841",
   "metadata": {},
   "source": [
    "https://en.wikipedia.org/wiki/Computational_mathematics\n",
    "\n",
    "https://en.wikipedia.org/wiki/List_of_computer_algebra_systems\n",
    "\n",
    "https://en.wikipedia.org/wiki/Theory_of_computation\n",
    "\n",
    "https://handwiki.org/wiki/Computational_mathematics"
   ]
  },
  {
   "cell_type": "code",
   "execution_count": null,
   "id": "65807130",
   "metadata": {},
   "outputs": [],
   "source": []
  }
 ],
 "metadata": {
  "kernelspec": {
   "display_name": "Python 3 (ipykernel)",
   "language": "python",
   "name": "python3"
  },
  "language_info": {
   "codemirror_mode": {
    "name": "ipython",
    "version": 3
   },
   "file_extension": ".py",
   "mimetype": "text/x-python",
   "name": "python",
   "nbconvert_exporter": "python",
   "pygments_lexer": "ipython3",
   "version": "3.9.12"
  }
 },
 "nbformat": 4,
 "nbformat_minor": 5
}
