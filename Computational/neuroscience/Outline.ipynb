{
 "cells": [
  {
   "cell_type": "markdown",
   "id": "0e39eb38",
   "metadata": {},
   "source": [
    "https://en.wikipedia.org/wiki/Outline_of_neuroscience\n",
    "\n",
    "https://en.wikipedia.org/wiki/Neuroscience"
   ]
  },
  {
   "cell_type": "code",
   "execution_count": null,
   "id": "f3427ad0",
   "metadata": {},
   "outputs": [],
   "source": []
  }
 ],
 "metadata": {
  "kernelspec": {
   "display_name": "Python 3 (ipykernel)",
   "language": "python",
   "name": "python3"
  },
  "language_info": {
   "codemirror_mode": {
    "name": "ipython",
    "version": 3
   },
   "file_extension": ".py",
   "mimetype": "text/x-python",
   "name": "python",
   "nbconvert_exporter": "python",
   "pygments_lexer": "ipython3",
   "version": "3.9.12"
  }
 },
 "nbformat": 4,
 "nbformat_minor": 5
}
