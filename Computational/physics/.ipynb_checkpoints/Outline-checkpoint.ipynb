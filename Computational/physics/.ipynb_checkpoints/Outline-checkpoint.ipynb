{
 "cells": [
  {
   "cell_type": "markdown",
   "id": "e3e87154",
   "metadata": {},
   "source": [
    "https://www.geeksforgeeks.org/what-is-computational-physics/\n",
    "\n",
    "https://en.wikibooks.org/wiki/Computational_Physics/Why_Computational_Physics%3F\n",
    "\n",
    "https://www.albany.edu/physics/programs/ms-computational-physics\n",
    "\n",
    "https://en.wikipedia.org/wiki/Outline_of_physics\n",
    "\n",
    "https://en.wikipedia.org/wiki/Computational_physics\n",
    "\n",
    "https://www.physics.udel.edu/~bnikolic/teaching/phys660/lectures.html\n",
    "\n",
    "https://en.wikipedia.org/wiki/Branches_of_physics"
   ]
  },
  {
   "cell_type": "markdown",
   "id": "9663b665",
   "metadata": {},
   "source": [
    "# Github Link \n",
    "\n",
    "https://github.com/CompPhysics/ComputationalPhysics/tree/master\n",
    "\n",
    "https://github.com/ahmadiphy/Computational-Physics-and-Algorithms\n",
    "\n",
    "https://github.com/meitosyou/Computational-Physics\n",
    "\n",
    "https://github.com/mlewandowski0/computational-physics/tree/master\n",
    "\n",
    "https://github.com/nsahsimon/Computational-Physics-Algorithms\n",
    "\n",
    "https://github.com/mohuangrui/ArtraCFD\n",
    "\n",
    "https://github.com/nsahsimon/Computational-Physics-Algorithms\n",
    "\n",
    "https://github.com/quantum-visualizations/qmsolve\n",
    "\n",
    "https://github.com/qutip/qutip\n",
    "\n",
    "https://github.com/OJB-Quantum/QC-Hardware-How-to\n",
    "\n",
    "https://wdscultan.github.io/"
   ]
  },
  {
   "cell_type": "code",
   "execution_count": null,
   "id": "fb2251bc",
   "metadata": {},
   "outputs": [],
   "source": []
  }
 ],
 "metadata": {
  "kernelspec": {
   "display_name": "Python 3 (ipykernel)",
   "language": "python",
   "name": "python3"
  },
  "language_info": {
   "codemirror_mode": {
    "name": "ipython",
    "version": 3
   },
   "file_extension": ".py",
   "mimetype": "text/x-python",
   "name": "python",
   "nbconvert_exporter": "python",
   "pygments_lexer": "ipython3",
   "version": "3.9.12"
  }
 },
 "nbformat": 4,
 "nbformat_minor": 5
}
