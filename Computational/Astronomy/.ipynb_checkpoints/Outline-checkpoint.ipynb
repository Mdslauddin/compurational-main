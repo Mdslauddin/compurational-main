{
 "cells": [
  {
   "cell_type": "markdown",
   "id": "62c2f5d0",
   "metadata": {},
   "source": [
    "https://skyserver.sdss.org/dr12/en/home.aspx\n",
    "\n",
    "https://fits.gsfc.nasa.gov/\n",
    "\n",
    "https://skyserver.sdss.org/dr12/en/tools/chart/navi.aspx"
   ]
  },
  {
   "cell_type": "code",
   "execution_count": null,
   "id": "abcd07f6",
   "metadata": {},
   "outputs": [],
   "source": []
  }
 ],
 "metadata": {
  "kernelspec": {
   "display_name": "Python 3 (ipykernel)",
   "language": "python",
   "name": "python3"
  },
  "language_info": {
   "codemirror_mode": {
    "name": "ipython",
    "version": 3
   },
   "file_extension": ".py",
   "mimetype": "text/x-python",
   "name": "python",
   "nbconvert_exporter": "python",
   "pygments_lexer": "ipython3",
   "version": "3.9.12"
  }
 },
 "nbformat": 4,
 "nbformat_minor": 5
}
